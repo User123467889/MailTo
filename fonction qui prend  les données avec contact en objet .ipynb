{
 "cells": [
  {
   "cell_type": "code",
   "execution_count": 6,
   "metadata": {},
   "outputs": [
    {
     "name": "stdout",
     "output_type": "stream",
     "text": [
      "from: Roxanne Galura <roxanne.galura@gmail.com>\n",
      "from: Roxanne Galura <roxanne.galura@gmail.com>\n"
     ]
    }
   ],
   "source": [
    "import imaplib\n",
    "import email\n",
    "\n",
    "mail = imaplib.IMAP4_SSL(\"imap.gmail.com\")\n",
    "mail.login(\"roro.enzo.test@gmail.com\",\"pnrbwptkjsvevasv\") #se connecter\n",
    "\n",
    "mail.select(\"Inbox\") #acceder aux mail qu'on reçoit\n",
    "\n",
    "clé = \"FROM\" #prendre comme clé FROM\n",
    "valeur = \"roxanne.galura@gmail.com\" # dans from prendre une adresse\n",
    "résultat, data = mail.search(None, clé, valeur) #va donc rechercher l'adresse\n",
    "\n",
    "mail_id_list = data[0].split() #obtient les id des messages et les sépare\n",
    "\n",
    "messages = [] #creer liste pour mettre les infos\n",
    "for num in mail_id_list:\n",
    "    résultat, data = mail.fetch(num, \"(RFC822)\")\n",
    "    messages.append(data)\n",
    "\n",
    "for info in messages:\n",
    "    for response_part in info:\n",
    "        if type(response_part) is tuple:\n",
    "            mess = email.message_from_bytes(response_part[1])\n",
    "            if \"subj\"==\"contact\" in mess:\n",
    "                print(\"subj:\", mess[\"subject\"])\n",
    "            print(\"from:\", mess[\"from\"])\n",
    "\n",
    "        "
   ]
  }
 ],
 "metadata": {
  "kernelspec": {
   "display_name": "Python 3",
   "language": "python",
   "name": "python3"
  },
  "language_info": {
   "codemirror_mode": {
    "name": "ipython",
    "version": 3
   },
   "file_extension": ".py",
   "mimetype": "text/x-python",
   "name": "python",
   "nbconvert_exporter": "python",
   "pygments_lexer": "ipython3",
   "version": "3.10.11"
  },
  "orig_nbformat": 4
 },
 "nbformat": 4,
 "nbformat_minor": 2
}
